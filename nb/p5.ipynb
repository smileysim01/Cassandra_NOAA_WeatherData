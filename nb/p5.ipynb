{
 "cells": [
  {
   "cell_type": "markdown",
   "id": "07bb2eb1-921a-42ec-989a-ebb75ef8a3f8",
   "metadata": {},
   "source": [
    "# simran4@wisc.edu\n",
    "# rgundavarapu@wisc.edu"
   ]
  },
  {
   "cell_type": "code",
   "execution_count": 1,
   "id": "00bd637f-cfce-4622-940b-78084bcd6fb0",
   "metadata": {},
   "outputs": [],
   "source": [
    "from cassandra.cluster import Cluster\n",
    "try:\n",
    "    cluster = Cluster(['project-5-srh4dawin-db-1', 'project-5-srh4dawin-db-2', 'project-5-srh4dawin-db-3'])\n",
    "    cass = cluster.connect()\n",
    "    cass.execute(\"drop keyspace if exists weather\")\n",
    "except Exception as e:\n",
    "    print(e)"
   ]
  },
  {
   "cell_type": "markdown",
   "id": "2b65d3bd-4736-4f23-8f41-e4ec6f1a6673",
   "metadata": {},
   "source": [
    "# Part 1: Station Metadata"
   ]
  },
  {
   "cell_type": "code",
   "execution_count": 2,
   "id": "7d93fcc0-29fe-46c6-bf8d-ca3a84f028f6",
   "metadata": {},
   "outputs": [
    {
     "data": {
      "text/plain": [
       "<cassandra.cluster.ResultSet at 0x7fd6feb35f00>"
      ]
     },
     "execution_count": 2,
     "metadata": {},
     "output_type": "execute_result"
    }
   ],
   "source": [
    "# DATA SETUP\n",
    "\n",
    "cass.execute(\"\"\"\n",
    "CREATE KEYSPACE weather \n",
    "WITH REPLICATION = {\n",
    "    'class' : 'SimpleStrategy', \n",
    "    'replication_factor' : 3 \n",
    "    };\n",
    "\"\"\")\n",
    "\n",
    "cass.execute(\"\"\"\n",
    "CREATE TYPE \n",
    "    weather.station_record (tmin int, tmax int)\n",
    "\"\"\")\n",
    "\n",
    "cass.execute(\"\"\"\n",
    "CREATE TABLE weather.stations (\n",
    "    id text,\n",
    "    name text STATIC,\n",
    "    date date,\n",
    "    record weather.station_record,\n",
    "    state text,\n",
    "    PRIMARY KEY (id,date)\n",
    ") WITH CLUSTERING ORDER BY (date asc)\n",
    "\"\"\")"
   ]
  },
  {
   "cell_type": "code",
   "execution_count": 3,
   "id": "ef42f683-e891-4538-98cb-a2e842909f8a",
   "metadata": {},
   "outputs": [
    {
     "data": {
      "text/html": [
       "<div>\n",
       "<style scoped>\n",
       "    .dataframe tbody tr th:only-of-type {\n",
       "        vertical-align: middle;\n",
       "    }\n",
       "\n",
       "    .dataframe tbody tr th {\n",
       "        vertical-align: top;\n",
       "    }\n",
       "\n",
       "    .dataframe thead th {\n",
       "        text-align: right;\n",
       "    }\n",
       "</style>\n",
       "<table border=\"1\" class=\"dataframe\">\n",
       "  <thead>\n",
       "    <tr style=\"text-align: right;\">\n",
       "      <th></th>\n",
       "      <th>keyspace_name</th>\n",
       "      <th>type</th>\n",
       "      <th>name</th>\n",
       "    </tr>\n",
       "  </thead>\n",
       "  <tbody>\n",
       "    <tr>\n",
       "      <th>0</th>\n",
       "      <td>system</td>\n",
       "      <td>keyspace</td>\n",
       "      <td>system</td>\n",
       "    </tr>\n",
       "    <tr>\n",
       "      <th>1</th>\n",
       "      <td>system_auth</td>\n",
       "      <td>keyspace</td>\n",
       "      <td>system_auth</td>\n",
       "    </tr>\n",
       "    <tr>\n",
       "      <th>2</th>\n",
       "      <td>system_distributed</td>\n",
       "      <td>keyspace</td>\n",
       "      <td>system_distributed</td>\n",
       "    </tr>\n",
       "    <tr>\n",
       "      <th>3</th>\n",
       "      <td>system_schema</td>\n",
       "      <td>keyspace</td>\n",
       "      <td>system_schema</td>\n",
       "    </tr>\n",
       "    <tr>\n",
       "      <th>4</th>\n",
       "      <td>system_traces</td>\n",
       "      <td>keyspace</td>\n",
       "      <td>system_traces</td>\n",
       "    </tr>\n",
       "    <tr>\n",
       "      <th>5</th>\n",
       "      <td>system_views</td>\n",
       "      <td>keyspace</td>\n",
       "      <td>system_views</td>\n",
       "    </tr>\n",
       "    <tr>\n",
       "      <th>6</th>\n",
       "      <td>system_virtual_schema</td>\n",
       "      <td>keyspace</td>\n",
       "      <td>system_virtual_schema</td>\n",
       "    </tr>\n",
       "    <tr>\n",
       "      <th>7</th>\n",
       "      <td>weather</td>\n",
       "      <td>keyspace</td>\n",
       "      <td>weather</td>\n",
       "    </tr>\n",
       "  </tbody>\n",
       "</table>\n",
       "</div>"
      ],
      "text/plain": [
       "           keyspace_name      type                   name\n",
       "0                 system  keyspace                 system\n",
       "1            system_auth  keyspace            system_auth\n",
       "2     system_distributed  keyspace     system_distributed\n",
       "3          system_schema  keyspace          system_schema\n",
       "4          system_traces  keyspace          system_traces\n",
       "5           system_views  keyspace           system_views\n",
       "6  system_virtual_schema  keyspace  system_virtual_schema\n",
       "7                weather  keyspace                weather"
      ]
     },
     "execution_count": 3,
     "metadata": {},
     "output_type": "execute_result"
    }
   ],
   "source": [
    "import pandas as pd\n",
    "pd.DataFrame(cass.execute(\"describe keyspaces\"))"
   ]
  },
  {
   "cell_type": "markdown",
   "id": "64998efb-43bc-42c8-b41c-259779785511",
   "metadata": {},
   "source": [
    "# Q1"
   ]
  },
  {
   "cell_type": "code",
   "execution_count": 4,
   "id": "67e2c051-3f5a-40d6-88f5-a7dbfd51933e",
   "metadata": {},
   "outputs": [
    {
     "name": "stdout",
     "output_type": "stream",
     "text": [
      "CREATE KEYSPACE weather WITH replication = {'class': 'SimpleStrategy', 'replication_factor': '3'}  AND durable_writes = true;\n",
      "CREATE TABLE weather.stations (\n",
      "    id text,\n",
      "    date date,\n",
      "    name text static,\n",
      "    state text,\n",
      "    record station_record,\n",
      "    PRIMARY KEY (id, date)\n",
      ") WITH CLUSTERING ORDER BY (date ASC)\n",
      "    AND additional_write_policy = '99p'\n",
      "    AND bloom_filter_fp_chance = 0.01\n",
      "    AND caching = {'keys': 'ALL', 'rows_per_partition': 'NONE'}\n",
      "    AND cdc = false\n",
      "    AND comment = ''\n",
      "    AND compaction = {'class': 'org.apache.cassandra.db.compaction.SizeTieredCompactionStrategy', 'max_threshold': '32', 'min_threshold': '4'}\n",
      "    AND compression = {'chunk_length_in_kb': '16', 'class': 'org.apache.cassandra.io.compress.LZ4Compressor'}\n",
      "    AND crc_check_chance = 1.0\n",
      "    AND default_time_to_live = 0\n",
      "    AND extensions = {}\n",
      "    AND gc_grace_seconds = 864000\n",
      "    AND max_index_interval = 2048\n",
      "    AND memtable_flush_period_in_ms = 0\n",
      "    AND min_index_interval = 128\n",
      "    AND read_repair = 'BLOCKING'\n",
      "    AND speculative_retry = '99p';\n"
     ]
    }
   ],
   "source": [
    "print(cass.execute(\"describe keyspace weather\").one().create_statement)\n",
    "print(cass.execute(\"describe table weather.stations\").one().create_statement)"
   ]
  },
  {
   "cell_type": "code",
   "execution_count": 5,
   "id": "49a02e72-90b1-4e1f-9ff8-865790057162",
   "metadata": {},
   "outputs": [
    {
     "name": "stdout",
     "output_type": "stream",
     "text": [
      ":: loading settings :: url = jar:file:/usr/local/lib/python3.10/dist-packages/pyspark/jars/ivy-2.5.0.jar!/org/apache/ivy/core/settings/ivysettings.xml\n"
     ]
    },
    {
     "name": "stderr",
     "output_type": "stream",
     "text": [
      "Ivy Default Cache set to: /root/.ivy2/cache\n",
      "The jars for the packages stored in: /root/.ivy2/jars\n",
      "com.datastax.spark#spark-cassandra-connector_2.12 added as a dependency\n",
      ":: resolving dependencies :: org.apache.spark#spark-submit-parent-d05aec69-35ea-4a05-aa3a-07777f683d22;1.0\n",
      "\tconfs: [default]\n",
      "\tfound com.datastax.spark#spark-cassandra-connector_2.12;3.2.0 in central\n",
      "\tfound com.datastax.spark#spark-cassandra-connector-driver_2.12;3.2.0 in central\n",
      "\tfound com.datastax.oss#java-driver-core-shaded;4.13.0 in central\n",
      "\tfound com.datastax.oss#native-protocol;1.5.0 in central\n",
      "\tfound com.datastax.oss#java-driver-shaded-guava;25.1-jre-graal-sub-1 in central\n",
      "\tfound com.typesafe#config;1.4.1 in central\n",
      "\tfound org.slf4j#slf4j-api;1.7.26 in central\n",
      "\tfound io.dropwizard.metrics#metrics-core;4.1.18 in central\n",
      "\tfound org.hdrhistogram#HdrHistogram;2.1.12 in central\n",
      "\tfound org.reactivestreams#reactive-streams;1.0.3 in central\n",
      "\tfound com.github.stephenc.jcip#jcip-annotations;1.0-1 in central\n",
      "\tfound com.github.spotbugs#spotbugs-annotations;3.1.12 in central\n",
      "\tfound com.google.code.findbugs#jsr305;3.0.2 in central\n",
      "\tfound com.datastax.oss#java-driver-mapper-runtime;4.13.0 in central\n",
      "\tfound com.datastax.oss#java-driver-query-builder;4.13.0 in central\n",
      "\tfound org.apache.commons#commons-lang3;3.10 in central\n",
      "\tfound com.thoughtworks.paranamer#paranamer;2.8 in central\n",
      "\tfound org.scala-lang#scala-reflect;2.12.11 in central\n",
      "downloading https://repo1.maven.org/maven2/com/datastax/spark/spark-cassandra-connector_2.12/3.2.0/spark-cassandra-connector_2.12-3.2.0.jar ...\n",
      "\t[SUCCESSFUL ] com.datastax.spark#spark-cassandra-connector_2.12;3.2.0!spark-cassandra-connector_2.12.jar (131ms)\n",
      "downloading https://repo1.maven.org/maven2/com/datastax/spark/spark-cassandra-connector-driver_2.12/3.2.0/spark-cassandra-connector-driver_2.12-3.2.0.jar ...\n",
      "\t[SUCCESSFUL ] com.datastax.spark#spark-cassandra-connector-driver_2.12;3.2.0!spark-cassandra-connector-driver_2.12.jar (73ms)\n",
      "downloading https://repo1.maven.org/maven2/com/datastax/oss/java-driver-core-shaded/4.13.0/java-driver-core-shaded-4.13.0.jar ...\n",
      "\t[SUCCESSFUL ] com.datastax.oss#java-driver-core-shaded;4.13.0!java-driver-core-shaded.jar (246ms)\n",
      "downloading https://repo1.maven.org/maven2/com/datastax/oss/java-driver-mapper-runtime/4.13.0/java-driver-mapper-runtime-4.13.0.jar ...\n",
      "\t[SUCCESSFUL ] com.datastax.oss#java-driver-mapper-runtime;4.13.0!java-driver-mapper-runtime.jar(bundle) (19ms)\n",
      "downloading https://repo1.maven.org/maven2/org/apache/commons/commons-lang3/3.10/commons-lang3-3.10.jar ...\n",
      "\t[SUCCESSFUL ] org.apache.commons#commons-lang3;3.10!commons-lang3.jar (43ms)\n",
      "downloading https://repo1.maven.org/maven2/com/thoughtworks/paranamer/paranamer/2.8/paranamer-2.8.jar ...\n",
      "\t[SUCCESSFUL ] com.thoughtworks.paranamer#paranamer;2.8!paranamer.jar(bundle) (17ms)\n",
      "downloading https://repo1.maven.org/maven2/org/scala-lang/scala-reflect/2.12.11/scala-reflect-2.12.11.jar ...\n",
      "\t[SUCCESSFUL ] org.scala-lang#scala-reflect;2.12.11!scala-reflect.jar (130ms)\n",
      "downloading https://repo1.maven.org/maven2/com/datastax/oss/native-protocol/1.5.0/native-protocol-1.5.0.jar ...\n",
      "\t[SUCCESSFUL ] com.datastax.oss#native-protocol;1.5.0!native-protocol.jar(bundle) (23ms)\n",
      "downloading https://repo1.maven.org/maven2/com/datastax/oss/java-driver-shaded-guava/25.1-jre-graal-sub-1/java-driver-shaded-guava-25.1-jre-graal-sub-1.jar ...\n",
      "\t[SUCCESSFUL ] com.datastax.oss#java-driver-shaded-guava;25.1-jre-graal-sub-1!java-driver-shaded-guava.jar (53ms)\n",
      "downloading https://repo1.maven.org/maven2/com/typesafe/config/1.4.1/config-1.4.1.jar ...\n",
      "\t[SUCCESSFUL ] com.typesafe#config;1.4.1!config.jar(bundle) (18ms)\n",
      "downloading https://repo1.maven.org/maven2/org/slf4j/slf4j-api/1.7.26/slf4j-api-1.7.26.jar ...\n",
      "\t[SUCCESSFUL ] org.slf4j#slf4j-api;1.7.26!slf4j-api.jar (14ms)\n",
      "downloading https://repo1.maven.org/maven2/io/dropwizard/metrics/metrics-core/4.1.18/metrics-core-4.1.18.jar ...\n",
      "\t[SUCCESSFUL ] io.dropwizard.metrics#metrics-core;4.1.18!metrics-core.jar(bundle) (14ms)\n",
      "downloading https://repo1.maven.org/maven2/org/hdrhistogram/HdrHistogram/2.1.12/HdrHistogram-2.1.12.jar ...\n",
      "\t[SUCCESSFUL ] org.hdrhistogram#HdrHistogram;2.1.12!HdrHistogram.jar(bundle) (18ms)\n",
      "downloading https://repo1.maven.org/maven2/org/reactivestreams/reactive-streams/1.0.3/reactive-streams-1.0.3.jar ...\n",
      "\t[SUCCESSFUL ] org.reactivestreams#reactive-streams;1.0.3!reactive-streams.jar (13ms)\n",
      "downloading https://repo1.maven.org/maven2/com/github/stephenc/jcip/jcip-annotations/1.0-1/jcip-annotations-1.0-1.jar ...\n",
      "\t[SUCCESSFUL ] com.github.stephenc.jcip#jcip-annotations;1.0-1!jcip-annotations.jar (13ms)\n",
      "downloading https://repo1.maven.org/maven2/com/github/spotbugs/spotbugs-annotations/3.1.12/spotbugs-annotations-3.1.12.jar ...\n",
      "\t[SUCCESSFUL ] com.github.spotbugs#spotbugs-annotations;3.1.12!spotbugs-annotations.jar (16ms)\n",
      "downloading https://repo1.maven.org/maven2/com/google/code/findbugs/jsr305/3.0.2/jsr305-3.0.2.jar ...\n",
      "\t[SUCCESSFUL ] com.google.code.findbugs#jsr305;3.0.2!jsr305.jar (13ms)\n",
      "downloading https://repo1.maven.org/maven2/com/datastax/oss/java-driver-query-builder/4.13.0/java-driver-query-builder-4.13.0.jar ...\n",
      "\t[SUCCESSFUL ] com.datastax.oss#java-driver-query-builder;4.13.0!java-driver-query-builder.jar(bundle) (17ms)\n",
      ":: resolution report :: resolve 5844ms :: artifacts dl 903ms\n",
      "\t:: modules in use:\n",
      "\tcom.datastax.oss#java-driver-core-shaded;4.13.0 from central in [default]\n",
      "\tcom.datastax.oss#java-driver-mapper-runtime;4.13.0 from central in [default]\n",
      "\tcom.datastax.oss#java-driver-query-builder;4.13.0 from central in [default]\n",
      "\tcom.datastax.oss#java-driver-shaded-guava;25.1-jre-graal-sub-1 from central in [default]\n",
      "\tcom.datastax.oss#native-protocol;1.5.0 from central in [default]\n",
      "\tcom.datastax.spark#spark-cassandra-connector-driver_2.12;3.2.0 from central in [default]\n",
      "\tcom.datastax.spark#spark-cassandra-connector_2.12;3.2.0 from central in [default]\n",
      "\tcom.github.spotbugs#spotbugs-annotations;3.1.12 from central in [default]\n",
      "\tcom.github.stephenc.jcip#jcip-annotations;1.0-1 from central in [default]\n",
      "\tcom.google.code.findbugs#jsr305;3.0.2 from central in [default]\n",
      "\tcom.thoughtworks.paranamer#paranamer;2.8 from central in [default]\n",
      "\tcom.typesafe#config;1.4.1 from central in [default]\n",
      "\tio.dropwizard.metrics#metrics-core;4.1.18 from central in [default]\n",
      "\torg.apache.commons#commons-lang3;3.10 from central in [default]\n",
      "\torg.hdrhistogram#HdrHistogram;2.1.12 from central in [default]\n",
      "\torg.reactivestreams#reactive-streams;1.0.3 from central in [default]\n",
      "\torg.scala-lang#scala-reflect;2.12.11 from central in [default]\n",
      "\torg.slf4j#slf4j-api;1.7.26 from central in [default]\n",
      "\t---------------------------------------------------------------------\n",
      "\t|                  |            modules            ||   artifacts   |\n",
      "\t|       conf       | number| search|dwnlded|evicted|| number|dwnlded|\n",
      "\t---------------------------------------------------------------------\n",
      "\t|      default     |   18  |   18  |   18  |   0   ||   18  |   18  |\n",
      "\t---------------------------------------------------------------------\n",
      ":: retrieving :: org.apache.spark#spark-submit-parent-d05aec69-35ea-4a05-aa3a-07777f683d22\n",
      "\tconfs: [default]\n",
      "\t18 artifacts copied, 0 already retrieved (18065kB/76ms)\n",
      "23/04/17 04:06:19 WARN NativeCodeLoader: Unable to load native-hadoop library for your platform... using builtin-java classes where applicable\n",
      "Using Spark's default log4j profile: org/apache/spark/log4j-defaults.properties\n",
      "Setting default log level to \"WARN\".\n",
      "To adjust logging level use sc.setLogLevel(newLevel). For SparkR, use setLogLevel(newLevel).\n"
     ]
    }
   ],
   "source": [
    "from pyspark.sql import SparkSession\n",
    "spark = (SparkSession.builder\n",
    "         .appName(\"p5\")\n",
    "         .config('spark.jars.packages', 'com.datastax.spark:spark-cassandra-connector_2.12:3.2.0')\n",
    "         .config(\"spark.sql.extensions\", \"com.datastax.spark.connector.CassandraSparkExtensions\")\n",
    "         .getOrCreate())"
   ]
  },
  {
   "cell_type": "code",
   "execution_count": 6,
   "id": "11e7d8e8-69ca-49f3-b7b9-a38d31a4a8fa",
   "metadata": {},
   "outputs": [
    {
     "name": "stdout",
     "output_type": "stream",
     "text": [
      "  % Total    % Received % Xferd  Average Speed   Time    Time     Time  Current\n",
      "                                 Dload  Upload   Total   Spent    Left  Speed\n",
      "100 10.1M  100 10.1M    0     0  19.3M      0 --:--:-- --:--:-- --:--:-- 19.3M\n"
     ]
    },
    {
     "name": "stderr",
     "output_type": "stream",
     "text": [
      "                                                                                \r"
     ]
    }
   ],
   "source": [
    "!curl 'https://pages.cs.wisc.edu/~harter/cs639/data/ghcnd-stations.txt' > ghcnd-stations.txt\n",
    "df = spark.read.text(\"ghcnd-stations.txt\")\n",
    "df.write.saveAsTable('stations')"
   ]
  },
  {
   "cell_type": "code",
   "execution_count": 7,
   "id": "f1311e9f-82c7-4bc6-8a6e-95a08d4cb1c0",
   "metadata": {},
   "outputs": [
    {
     "name": "stderr",
     "output_type": "stream",
     "text": [
      "                                                                                \r"
     ]
    }
   ],
   "source": [
    "metadata=spark.sql(\"\"\"\n",
    "SELECT SUBSTRING(value,0,11) as id,SUBSTRING(value,42,30) as name\n",
    "FROM stations\n",
    "WHERE SUBSTRING(value,39,2) == 'WI'\n",
    "\"\"\").collect()"
   ]
  },
  {
   "cell_type": "code",
   "execution_count": 8,
   "id": "f1d02ef7-b4ad-4b57-aff0-ec021fb4321f",
   "metadata": {},
   "outputs": [
    {
     "data": {
      "text/html": [
       "<div>\n",
       "<style scoped>\n",
       "    .dataframe tbody tr th:only-of-type {\n",
       "        vertical-align: middle;\n",
       "    }\n",
       "\n",
       "    .dataframe tbody tr th {\n",
       "        vertical-align: top;\n",
       "    }\n",
       "\n",
       "    .dataframe thead th {\n",
       "        text-align: right;\n",
       "    }\n",
       "</style>\n",
       "<table border=\"1\" class=\"dataframe\">\n",
       "  <thead>\n",
       "    <tr style=\"text-align: right;\">\n",
       "      <th></th>\n",
       "    </tr>\n",
       "  </thead>\n",
       "  <tbody>\n",
       "  </tbody>\n",
       "</table>\n",
       "</div>"
      ],
      "text/plain": [
       "Empty DataFrame\n",
       "Columns: []\n",
       "Index: []"
      ]
     },
     "execution_count": 8,
     "metadata": {},
     "output_type": "execute_result"
    }
   ],
   "source": [
    "def show_table():\n",
    "    return pd.DataFrame(cass.execute(\"select * from weather.stations\"))\n",
    "show_table()"
   ]
  },
  {
   "cell_type": "code",
   "execution_count": 9,
   "id": "de17b204-45f3-4629-9d7c-9b76179a8d45",
   "metadata": {},
   "outputs": [],
   "source": [
    "insert_weather_stations = cass.prepare(\"\"\"\n",
    "INSERT INTO weather.stations\n",
    "(id,name)\n",
    "VALUES\n",
    "(?,?)\n",
    "\"\"\")"
   ]
  },
  {
   "cell_type": "code",
   "execution_count": 10,
   "id": "d8e0b67e-15bb-4c03-9eb9-4dad5ccb3a64",
   "metadata": {},
   "outputs": [
    {
     "data": {
      "text/html": [
       "<div>\n",
       "<style scoped>\n",
       "    .dataframe tbody tr th:only-of-type {\n",
       "        vertical-align: middle;\n",
       "    }\n",
       "\n",
       "    .dataframe tbody tr th {\n",
       "        vertical-align: top;\n",
       "    }\n",
       "\n",
       "    .dataframe thead th {\n",
       "        text-align: right;\n",
       "    }\n",
       "</style>\n",
       "<table border=\"1\" class=\"dataframe\">\n",
       "  <thead>\n",
       "    <tr style=\"text-align: right;\">\n",
       "      <th></th>\n",
       "      <th>id</th>\n",
       "      <th>date</th>\n",
       "      <th>name</th>\n",
       "      <th>record</th>\n",
       "      <th>state</th>\n",
       "    </tr>\n",
       "  </thead>\n",
       "  <tbody>\n",
       "    <tr>\n",
       "      <th>0</th>\n",
       "      <td>USC00479053</td>\n",
       "      <td>None</td>\n",
       "      <td>W BEND FIRE STN #2</td>\n",
       "      <td>None</td>\n",
       "      <td>None</td>\n",
       "    </tr>\n",
       "    <tr>\n",
       "      <th>1</th>\n",
       "      <td>USC00476398</td>\n",
       "      <td>None</td>\n",
       "      <td>PARK FALLS DNR HQ</td>\n",
       "      <td>None</td>\n",
       "      <td>None</td>\n",
       "    </tr>\n",
       "    <tr>\n",
       "      <th>2</th>\n",
       "      <td>USC00470268</td>\n",
       "      <td>None</td>\n",
       "      <td>APPOLONIA</td>\n",
       "      <td>None</td>\n",
       "      <td>None</td>\n",
       "    </tr>\n",
       "    <tr>\n",
       "      <th>3</th>\n",
       "      <td>USC00474110</td>\n",
       "      <td>None</td>\n",
       "      <td>JUNEAU</td>\n",
       "      <td>None</td>\n",
       "      <td>None</td>\n",
       "    </tr>\n",
       "    <tr>\n",
       "      <th>4</th>\n",
       "      <td>USC00475525</td>\n",
       "      <td>None</td>\n",
       "      <td>MINONG 5 WSW</td>\n",
       "      <td>None</td>\n",
       "      <td>None</td>\n",
       "    </tr>\n",
       "    <tr>\n",
       "      <th>...</th>\n",
       "      <td>...</td>\n",
       "      <td>...</td>\n",
       "      <td>...</td>\n",
       "      <td>...</td>\n",
       "      <td>...</td>\n",
       "    </tr>\n",
       "    <tr>\n",
       "      <th>1308</th>\n",
       "      <td>USC00479050</td>\n",
       "      <td>None</td>\n",
       "      <td>WEST BEND</td>\n",
       "      <td>None</td>\n",
       "      <td>None</td>\n",
       "    </tr>\n",
       "    <tr>\n",
       "      <th>1309</th>\n",
       "      <td>US1WIPC0004</td>\n",
       "      <td>None</td>\n",
       "      <td>RIVER FALLS 3.0 SE</td>\n",
       "      <td>None</td>\n",
       "      <td>None</td>\n",
       "    </tr>\n",
       "    <tr>\n",
       "      <th>1310</th>\n",
       "      <td>US1WIWK0016</td>\n",
       "      <td>None</td>\n",
       "      <td>MUSKEGO 1.0 W</td>\n",
       "      <td>None</td>\n",
       "      <td>None</td>\n",
       "    </tr>\n",
       "    <tr>\n",
       "      <th>1311</th>\n",
       "      <td>US1WIWK0086</td>\n",
       "      <td>None</td>\n",
       "      <td>WALES 0.4 NW</td>\n",
       "      <td>None</td>\n",
       "      <td>None</td>\n",
       "    </tr>\n",
       "    <tr>\n",
       "      <th>1312</th>\n",
       "      <td>USC00475471</td>\n",
       "      <td>None</td>\n",
       "      <td>MIDDLETON</td>\n",
       "      <td>None</td>\n",
       "      <td>None</td>\n",
       "    </tr>\n",
       "  </tbody>\n",
       "</table>\n",
       "<p>1313 rows × 5 columns</p>\n",
       "</div>"
      ],
      "text/plain": [
       "               id  date                            name record state\n",
       "0     USC00479053  None  W BEND FIRE STN #2               None  None\n",
       "1     USC00476398  None  PARK FALLS DNR HQ                None  None\n",
       "2     USC00470268  None  APPOLONIA                        None  None\n",
       "3     USC00474110  None  JUNEAU                           None  None\n",
       "4     USC00475525  None  MINONG 5 WSW                     None  None\n",
       "...           ...   ...                             ...    ...   ...\n",
       "1308  USC00479050  None  WEST BEND                        None  None\n",
       "1309  US1WIPC0004  None  RIVER FALLS 3.0 SE               None  None\n",
       "1310  US1WIWK0016  None  MUSKEGO 1.0 W                    None  None\n",
       "1311  US1WIWK0086  None  WALES 0.4 NW                     None  None\n",
       "1312  USC00475471  None  MIDDLETON                        None  None\n",
       "\n",
       "[1313 rows x 5 columns]"
      ]
     },
     "execution_count": 10,
     "metadata": {},
     "output_type": "execute_result"
    }
   ],
   "source": [
    "for i in metadata:\n",
    "    cass.execute(insert_weather_stations,(i[0],i[1]))\n",
    "show_table()"
   ]
  },
  {
   "cell_type": "markdown",
   "id": "1d848205-2158-4e55-b96f-25132d2c4588",
   "metadata": {},
   "source": [
    "# Q2"
   ]
  },
  {
   "cell_type": "code",
   "execution_count": 11,
   "id": "609dccd2-7750-4bde-8560-f06b88aef0a2",
   "metadata": {},
   "outputs": [
    {
     "data": {
      "text/plain": [
       "-9014250178872933741"
      ]
     },
     "execution_count": 11,
     "metadata": {},
     "output_type": "execute_result"
    }
   ],
   "source": [
    "for i in list(cass.execute(\"\"\"\n",
    "select id,token(id) from weather.stations  \n",
    "\"\"\")):\n",
    "    if i[0] == 'USC00470273':\n",
    "        row_token = i[1]\n",
    "row_token"
   ]
  },
  {
   "cell_type": "code",
   "execution_count": 12,
   "id": "8daa6241-276a-407c-bbbf-4a6a282993ef",
   "metadata": {},
   "outputs": [
    {
     "data": {
      "text/plain": [
       "-8215865411716809314"
      ]
     },
     "execution_count": 12,
     "metadata": {},
     "output_type": "execute_result"
    }
   ],
   "source": [
    "import subprocess\n",
    "output= (subprocess.check_output([\"nodetool\",\"ring\"])).decode().split('\\n')\n",
    "for i in output[5:53]:    ## loop over output and check for value that is greater than data token\n",
    "    v_node=int(i[70:])\n",
    "    if(v_node>=row_token):\n",
    "        vnode_token = v_node\n",
    "        break\n",
    "vnode_token"
   ]
  },
  {
   "cell_type": "code",
   "execution_count": 13,
   "id": "c835f45e-e7bb-4dde-8ce4-901f62569ed4",
   "metadata": {},
   "outputs": [
    {
     "name": "stdout",
     "output_type": "stream",
     "text": [
      "row token:  -9014250178872933741\n",
      "vnode token:  -8215865411716809314\n"
     ]
    }
   ],
   "source": [
    "print(f'row token: ',row_token)\n",
    "print(f'vnode token: ',vnode_token)"
   ]
  },
  {
   "cell_type": "markdown",
   "id": "0f75daa4-e7dc-4982-9f25-a0ac244f0a93",
   "metadata": {},
   "source": [
    "# Part 2:Temperature Data"
   ]
  },
  {
   "cell_type": "code",
   "execution_count": 14,
   "id": "f7c8d292-c867-4411-b1d0-4a335fd3e14c",
   "metadata": {},
   "outputs": [
    {
     "name": "stdout",
     "output_type": "stream",
     "text": [
      "  % Total    % Received % Xferd  Average Speed   Time    Time     Time  Current\n",
      "                                 Dload  Upload   Total   Spent    Left  Speed\n",
      "100  126M  100  126M    0     0  68.7M      0  0:00:01  0:00:01 --:--:-- 68.7M\n"
     ]
    }
   ],
   "source": [
    "!curl https://pages.cs.wisc.edu/~harter/cs639/data/wi-stations.zip > wi-stations.zip\n",
    "import zipfile as zf\n",
    "zf.ZipFile('wi-stations.zip').extractall()"
   ]
  },
  {
   "cell_type": "code",
   "execution_count": 15,
   "id": "b7b314a0-fa7a-4fc6-af14-9035124951a7",
   "metadata": {},
   "outputs": [
    {
     "name": "stderr",
     "output_type": "stream",
     "text": [
      "                                                                                \r"
     ]
    },
    {
     "name": "stdout",
     "output_type": "stream",
     "text": [
      "max temp for USW00014837 is 356\n",
      "max temp for USR0000WDDG is 344\n"
     ]
    },
    {
     "name": "stderr",
     "output_type": "stream",
     "text": [
      "                                                                                \r"
     ]
    },
    {
     "name": "stdout",
     "output_type": "stream",
     "text": [
      "max temp for USW00014898 is 356\n"
     ]
    },
    {
     "name": "stderr",
     "output_type": "stream",
     "text": [
      "                                                                                \r"
     ]
    },
    {
     "name": "stdout",
     "output_type": "stream",
     "text": [
      "max temp for USW00014839 is 378\n"
     ]
    }
   ],
   "source": [
    "import station_pb2_grpc, station_pb2, grpc\n",
    "import pandas as pd\n",
    "from datetime import datetime\n",
    "channel = grpc.insecure_channel('6840864d03c8:5440')\n",
    "stub = station_pb2_grpc.StationStub(channel)\n",
    "def simulate_sensor(station):\n",
    "    # TODO: loop over tmin/tmax data for every day of 2022 for the given station;\n",
    "    # send each to server with RecordTemps call\n",
    "    df = spark.read.format(\"csv\").option(\"compression\", \"gzip\").load(f'{station}.csv.gz')\n",
    "    df.write.saveAsTable(f'{station}', mode='overwrite')\n",
    "    hello=spark.sql(f\"\"\" \n",
    "    select *,SUBSTRING(_c1,0,4) as year,concat(SUBSTRING(_c1,0,4),'-',SUBSTRING(_c1,5,2),'-',SUBSTRING(_c1,7,2)) as date \n",
    "    from {station}\n",
    "    where SUBSTRING(_c1,0,4) == 2022 and (_c2 =='TMIN' or _c2=='TMAX')\n",
    "    \"\"\").toPandas()\n",
    "    hello=hello.pivot(columns='_c2',values='_c3',index='date')\n",
    "    for i in hello.iterrows():\n",
    "        fail=stub.RecordTemps(station_pb2.RecordTempsRequest(station=station,date=i[0],tmin=int(i[1].TMIN),tmax=int(i[1].TMAX)))\n",
    "\n",
    "for station in [\"USW00014837\", \"USR0000WDDG\", \"USW00014898\", \"USW00014839\"]:\n",
    "    simulate_sensor(station)\n",
    "    r = stub.StationMax(station_pb2.StationMaxRequest(station=station))\n",
    "    if r.error:\n",
    "        print(r.error)\n",
    "    else:\n",
    "        print(f\"max temp for {station} is {r.tmax}\")"
   ]
  },
  {
   "cell_type": "markdown",
   "id": "b0a5a9b0-831b-4b7b-aec4-050622657854",
   "metadata": {},
   "source": [
    "## PART 3"
   ]
  },
  {
   "cell_type": "markdown",
   "id": "6bdbdb46-1511-4d2d-89a5-42245d3b0aeb",
   "metadata": {},
   "source": [
    "## Q3"
   ]
  },
  {
   "cell_type": "code",
   "execution_count": 16,
   "id": "c4698cdf-52c7-4d9e-ac38-2404dbe8f91d",
   "metadata": {},
   "outputs": [
    {
     "data": {
      "text/plain": [
       "DataFrame[id: string, date: date, record: struct<tmin:int,tmax:int>, state: string, name: string]"
      ]
     },
     "execution_count": 16,
     "metadata": {},
     "output_type": "execute_result"
    }
   ],
   "source": [
    "spark.conf.set(\"spark.sql.catalog.cassandra\", \"com.datastax.spark.connector.datasource.CassandraCatalog\")\n",
    "spark.conf.set(\"spark.sql.catalog.cassandra.spark.cassandra.connection.host\", \"project-5-srh4dawin-db-3:9042\")\n",
    "\n",
    "spark.table(\"cassandra.weather.stations\")"
   ]
  },
  {
   "cell_type": "code",
   "execution_count": 17,
   "id": "75c108db-4b7d-439c-8935-cbc0712919fc",
   "metadata": {},
   "outputs": [
    {
     "data": {
      "text/plain": [
       "DataFrame[id: string, date: date, record: struct<tmin:int,tmax:int>, state: string, name: string]"
      ]
     },
     "execution_count": 17,
     "metadata": {},
     "output_type": "execute_result"
    }
   ],
   "source": [
    "spark.table(\"cassandra.weather.stations\").createOrReplaceTempView(\"weather2022\")\n",
    "spark.table(\"weather2022\").cache()"
   ]
  },
  {
   "cell_type": "code",
   "execution_count": 18,
   "id": "a3581840-4d8d-409e-9ea8-13117c4be268",
   "metadata": {},
   "outputs": [
    {
     "data": {
      "text/plain": [
       "68.0"
      ]
     },
     "execution_count": 18,
     "metadata": {},
     "output_type": "execute_result"
    }
   ],
   "source": [
    "def to_fahrenheit(temp):\n",
    "    temp=temp/10\n",
    "    return((temp)*1.8 + 32)\n",
    "to_fahrenheit(200)"
   ]
  },
  {
   "cell_type": "code",
   "execution_count": 19,
   "id": "a1b22b45-e3f9-4eba-89da-0acfe2b1745c",
   "metadata": {},
   "outputs": [
    {
     "name": "stderr",
     "output_type": "stream",
     "text": [
      "                                                                                \r"
     ]
    }
   ],
   "source": [
    "lows_highs=spark.sql(\"\"\"\n",
    "SELECT record,date\n",
    "FROM weather2022\n",
    "where id = 'USW00014837'\n",
    "\"\"\").toPandas()"
   ]
  },
  {
   "cell_type": "code",
   "execution_count": 20,
   "id": "6fe67423-2697-4d3f-b25b-e18bc774ca16",
   "metadata": {},
   "outputs": [
    {
     "data": {
      "text/plain": [
       "<matplotlib.legend.Legend at 0x7fd6cb88ffd0>"
      ]
     },
     "execution_count": 20,
     "metadata": {},
     "output_type": "execute_result"
    },
    {
     "data": {
      "image/png": "[encoded data removed]",
      "text/plain": [
       "<Figure size 640x480 with 1 Axes>"
      ]
     },
     "metadata": {},
     "output_type": "display_data"
    }
   ],
   "source": [
    "high_temps=[]\n",
    "low_temps=[]\n",
    "dates=[i for i in lows_highs['date']]\n",
    "import matplotlib.pyplot as plt\n",
    "for i in lows_highs['record']:\n",
    "    high_temps.append(to_fahrenheit(max(i)))\n",
    "    low_temps.append(to_fahrenheit(min(i)))\n",
    "plt.plot(dates,low_temps)\n",
    "plt.plot(dates,high_temps)\n",
    "plt.xlabel('date')\n",
    "plt.ylabel('daily temps(fahrenheit)')\n",
    "plt.legend([\"low\", \"high\"])"
   ]
  },
  {
   "cell_type": "markdown",
   "id": "03cea43c-d82b-4f74-b3bc-260d5e1cc7be",
   "metadata": {},
   "source": [
    "## Q4"
   ]
  },
  {
   "cell_type": "code",
   "execution_count": 21,
   "id": "599f914f-aa62-48f9-a633-89649298e225",
   "metadata": {},
   "outputs": [],
   "source": [
    "madison = spark.sql(\"\"\"\n",
    "SELECT record\n",
    "FROM weather2022\n",
    "where id = 'USW00014837'\n",
    "\"\"\").toPandas()\n",
    "milwaukee=spark.sql(\"\"\"\n",
    "SELECT record\n",
    "FROM weather2022\n",
    "where id = 'USW00014839'\n",
    "\"\"\").toPandas()"
   ]
  },
  {
   "cell_type": "code",
   "execution_count": 22,
   "id": "02bfd58a-5553-4baf-aba3-e3891263258b",
   "metadata": {},
   "outputs": [
    {
     "name": "stderr",
     "output_type": "stream",
     "text": [
      "                                                                                \r"
     ]
    },
    {
     "data": {
      "text/plain": [
       "[Row(correlation=0.9786907979650685)]"
      ]
     },
     "execution_count": 22,
     "metadata": {},
     "output_type": "execute_result"
    }
   ],
   "source": [
    "madison_max_temps=[]\n",
    "from pyspark.sql.functions import corr\n",
    "milwaukee_max_temps=[]\n",
    "for i in madison['record']:\n",
    "    madison_max_temps.append(max(i))\n",
    "for i in milwaukee['record']:\n",
    "    milwaukee_max_temps.append(max(i))\n",
    "df = spark.createDataFrame(zip(madison_max_temps, milwaukee_max_temps), [\"madison\", \"milwaukee\"])\n",
    "df.agg(corr(\"madison\", \"milwaukee\").alias('correlation')).collect()"
   ]
  },
  {
   "cell_type": "markdown",
   "id": "3da45328-58e0-4d0b-a172-ea6bcae20989",
   "metadata": {},
   "source": [
    "## PART 4"
   ]
  },
  {
   "cell_type": "markdown",
   "id": "e2e0ef12-d5ef-4b66-80f8-8d0d30a45c38",
   "metadata": {},
   "source": [
    "## Q5"
   ]
  },
  {
   "cell_type": "code",
   "execution_count": 25,
   "id": "dc6b17f5-7a33-48ce-9bba-f37672d7c4db",
   "metadata": {},
   "outputs": [
    {
     "name": "stderr",
     "output_type": "stream",
     "text": [
      "WARNING:cassandra.pool:Error attempting to reconnect to 172.30.0.3:9042, scheduling retry in 2.1 seconds: [Errno None] Tried connecting to [('172.30.0.3', 9042)]. Last error: timed out\n"
     ]
    },
    {
     "data": {
      "text/plain": [
       "error: \"Error from server: code=1200 [Coordinator node timed out waiting for replica nodes\\' responses] message=\\\"Operation timed out - received only 2 responses.\\\" info={\\'consistency\\': \\'THREE\\', \\'required_responses\\': 3, \\'received_responses\\': 2}\""
      ]
     },
     "execution_count": 25,
     "metadata": {},
     "output_type": "execute_result"
    },
    {
     "name": "stderr",
     "output_type": "stream",
     "text": [
      "23/04/17 04:08:45 WARN ChannelPool: [s0|/172.30.0.3:9042]  Error while opening new channel (ConnectionInitException: [s0|connecting...] Protocol initialization request, step 1 (STARTUP {CQL_VERSION=3.0.0, DRIVER_NAME=DataStax Java driver for Apache Cassandra(R), DRIVER_VERSION=4.13.0, CLIENT_ID=b1f1f127-53dd-4c44-bcda-a3b1e1631db9, APPLICATION_NAME=Spark-Cassandra-Connector-local-1681704382340}): failed to send request (java.nio.channels.NotYetConnectedException))\n",
      "WARNING:cassandra.pool:Error attempting to reconnect to 172.30.0.3:9042, scheduling retry in 3.48 seconds: [Errno None] Tried connecting to [('172.30.0.3', 9042)]. Last error: timed out\n",
      "23/04/17 04:08:54 WARN ChannelPool: [s0|/172.30.0.3:9042]  Error while opening new channel (ConnectionInitException: [s0|connecting...] Protocol initialization request, step 1 (STARTUP {CQL_VERSION=3.0.0, DRIVER_NAME=DataStax Java driver for Apache Cassandra(R), DRIVER_VERSION=4.13.0, CLIENT_ID=b1f1f127-53dd-4c44-bcda-a3b1e1631db9, APPLICATION_NAME=Spark-Cassandra-Connector-local-1681704382340}): failed to send request (java.nio.channels.NotYetConnectedException))\n",
      "WARNING:cassandra.pool:Error attempting to reconnect to 172.30.0.3:9042, scheduling retry in 7.28 seconds: [Errno None] Tried connecting to [('172.30.0.3', 9042)]. Last error: timed out\n",
      "23/04/17 04:09:07 WARN ChannelPool: [s0|/172.30.0.3:9042]  Error while opening new channel (ConnectionInitException: [s0|connecting...] Protocol initialization request, step 1 (STARTUP {CQL_VERSION=3.0.0, DRIVER_NAME=DataStax Java driver for Apache Cassandra(R), DRIVER_VERSION=4.13.0, CLIENT_ID=b1f1f127-53dd-4c44-bcda-a3b1e1631db9, APPLICATION_NAME=Spark-Cassandra-Connector-local-1681704382340}): failed to send request (java.nio.channels.NotYetConnectedException))\n",
      "WARNING:cassandra.pool:Error attempting to reconnect to 172.30.0.3:9042, scheduling retry in 16.32 seconds: [Errno None] Tried connecting to [('172.30.0.3', 9042)]. Last error: timed out\n",
      "23/04/17 04:09:24 WARN ChannelPool: [s0|/172.30.0.3:9042]  Error while opening new channel (ConnectionInitException: [s0|connecting...] Protocol initialization request, step 1 (STARTUP {CQL_VERSION=3.0.0, DRIVER_NAME=DataStax Java driver for Apache Cassandra(R), DRIVER_VERSION=4.13.0, CLIENT_ID=b1f1f127-53dd-4c44-bcda-a3b1e1631db9, APPLICATION_NAME=Spark-Cassandra-Connector-local-1681704382340}): failed to send request (com.datastax.oss.driver.shaded.netty.channel.StacklessClosedChannelException))\n",
      "WARNING:cassandra.pool:Error attempting to reconnect to 172.30.0.3:9042, scheduling retry in 29.76 seconds: [Errno 113] Tried connecting to [('172.30.0.3', 9042)]. Last error: No route to host\n",
      "WARNING:cassandra.pool:Error attempting to reconnect to 172.30.0.3:9042, scheduling retry in 71.04 seconds: [Errno 113] Tried connecting to [('172.30.0.3', 9042)]. Last error: No route to host\n",
      "23/04/17 04:09:58 WARN ChannelPool: [s0|/172.30.0.3:9042]  Error while opening new channel (ConnectionInitException: [s0|connecting...] Protocol initialization request, step 1 (STARTUP {CQL_VERSION=3.0.0, DRIVER_NAME=DataStax Java driver for Apache Cassandra(R), DRIVER_VERSION=4.13.0, CLIENT_ID=b1f1f127-53dd-4c44-bcda-a3b1e1631db9, APPLICATION_NAME=Spark-Cassandra-Connector-local-1681704382340}): failed to send request (com.datastax.oss.driver.shaded.netty.channel.StacklessClosedChannelException))\n"
     ]
    }
   ],
   "source": [
    "stub.StationMax(station_pb2.StationMaxRequest(station=\"USW00014837\"))\n",
    "## WE GET AN ERROR SINCE WE CLOSED THE CONTAINER"
   ]
  },
  {
   "cell_type": "markdown",
   "id": "e15f5845-626f-4f2d-842c-2b13696949a0",
   "metadata": {},
   "source": [
    "## Q6"
   ]
  },
  {
   "cell_type": "code",
   "execution_count": 26,
   "id": "6b8b0176-0591-4b22-94e0-27d0633744dc",
   "metadata": {},
   "outputs": [
    {
     "name": "stderr",
     "output_type": "stream",
     "text": [
      "23/04/17 04:10:50 WARN ChannelPool: [s0|/172.30.0.3:9042]  Error while opening new channel (ConnectionInitException: [s0|connecting...] Protocol initialization request, step 1 (STARTUP {CQL_VERSION=3.0.0, DRIVER_NAME=DataStax Java driver for Apache Cassandra(R), DRIVER_VERSION=4.13.0, CLIENT_ID=b1f1f127-53dd-4c44-bcda-a3b1e1631db9, APPLICATION_NAME=Spark-Cassandra-Connector-local-1681704382340}): failed to send request (com.datastax.oss.driver.shaded.netty.channel.StacklessClosedChannelException))\n",
      "WARNING:cassandra.pool:Error attempting to reconnect to 172.30.0.3:9042, scheduling retry in 140.8 seconds: [Errno 113] Tried connecting to [('172.30.0.3', 9042)]. Last error: No route to host\n"
     ]
    }
   ],
   "source": [
    "simulate_sensor(\"USC00477115\")\n",
    "## NOT WORKING"
   ]
  },
  {
   "cell_type": "markdown",
   "id": "1d269a45-7335-4d1b-b169-1fb30511e456",
   "metadata": {},
   "source": [
    "## Q7"
   ]
  },
  {
   "cell_type": "code",
   "execution_count": 27,
   "id": "0f913c1c-268e-48e0-80f2-1516e094bbfd",
   "metadata": {},
   "outputs": [
    {
     "name": "stdout",
     "output_type": "stream",
     "text": [
      "BEFORE REFRESH: 1460\n",
      "AFTER REFRESH: 1825\n"
     ]
    },
    {
     "name": "stderr",
     "output_type": "stream",
     "text": [
      "23/04/17 04:11:42 WARN ChannelPool: [s0|/172.30.0.3:9042]  Error while opening new channel (ConnectionInitException: [s0|connecting...] Protocol initialization request, step 1 (STARTUP {CQL_VERSION=3.0.0, DRIVER_NAME=DataStax Java driver for Apache Cassandra(R), DRIVER_VERSION=4.13.0, CLIENT_ID=b1f1f127-53dd-4c44-bcda-a3b1e1631db9, APPLICATION_NAME=Spark-Cassandra-Connector-local-1681704382340}): failed to send request (com.datastax.oss.driver.shaded.netty.channel.StacklessClosedChannelException))\n",
      "23/04/17 04:12:39 WARN ChannelPool: [s0|/172.30.0.3:9042]  Error while opening new channel (ConnectionInitException: [s0|connecting...] Protocol initialization request, step 1 (STARTUP {CQL_VERSION=3.0.0, DRIVER_NAME=DataStax Java driver for Apache Cassandra(R), DRIVER_VERSION=4.13.0, CLIENT_ID=b1f1f127-53dd-4c44-bcda-a3b1e1631db9, APPLICATION_NAME=Spark-Cassandra-Connector-local-1681704382340}): failed to send request (com.datastax.oss.driver.shaded.netty.channel.StacklessClosedChannelException))\n",
      "WARNING:cassandra.pool:Error attempting to reconnect to 172.30.0.3:9042, scheduling retry in 250.88 seconds: [Errno 113] Tried connecting to [('172.30.0.3', 9042)]. Last error: No route to host\n",
      "23/04/17 04:13:41 WARN ChannelPool: [s0|/172.30.0.3:9042]  Error while opening new channel (ConnectionInitException: [s0|connecting...] Protocol initialization request, step 1 (STARTUP {CQL_VERSION=3.0.0, DRIVER_NAME=DataStax Java driver for Apache Cassandra(R), DRIVER_VERSION=4.13.0, CLIENT_ID=b1f1f127-53dd-4c44-bcda-a3b1e1631db9, APPLICATION_NAME=Spark-Cassandra-Connector-local-1681704382340}): failed to send request (com.datastax.oss.driver.shaded.netty.channel.StacklessClosedChannelException))\n",
      "23/04/17 04:14:39 WARN ChannelPool: [s0|/172.30.0.3:9042]  Error while opening new channel (ConnectionInitException: [s0|connecting...] Protocol initialization request, step 1 (STARTUP {CQL_VERSION=3.0.0, DRIVER_NAME=DataStax Java driver for Apache Cassandra(R), DRIVER_VERSION=4.13.0, CLIENT_ID=b1f1f127-53dd-4c44-bcda-a3b1e1631db9, APPLICATION_NAME=Spark-Cassandra-Connector-local-1681704382340}): failed to send request (com.datastax.oss.driver.shaded.netty.channel.StacklessClosedChannelException))\n"
     ]
    }
   ],
   "source": [
    "before_count = spark.sql(\"SELECT COUNT(record) FROM weather2022\").toPandas()\n",
    "print(\"BEFORE REFRESH:\",before_count['count(record)'][0])\n",
    "spark.sql(\"REFRESH TABLE weather2022\")\n",
    "after_count = spark.sql(\"SELECT COUNT(record) FROM weather2022\").toPandas()\n",
    "print(\"AFTER REFRESH:\",after_count['count(record)'][0])"
   ]
  }
 ],
 "metadata": {
  "kernelspec": {
   "display_name": "Python 3 (ipykernel)",
   "language": "python",
   "name": "python3"
  },
  "language_info": {
   "codemirror_mode": {
    "name": "ipython",
    "version": 3
   },
   "file_extension": ".py",
   "mimetype": "text/x-python",
   "name": "python",
   "nbconvert_exporter": "python",
   "pygments_lexer": "ipython3",
   "version": "3.10.6"
  }
 },
 "nbformat": 4,
 "nbformat_minor": 5
}
