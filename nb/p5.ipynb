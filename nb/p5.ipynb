{
 "cells": [
  {
   "cell_type": "code",
   "execution_count": 7,
   "id": "00bd637f-cfce-4622-940b-78084bcd6fb0",
   "metadata": {},
   "outputs": [
    {
     "name": "stdout",
     "output_type": "stream",
     "text": [
      "('Unable to connect to any servers', {'172.19.0.2:9042': ConnectionRefusedError(111, \"Tried connecting to [('172.19.0.2', 9042)]. Last error: Connection refused\"), '172.19.0.3:9042': ConnectionRefusedError(111, \"Tried connecting to [('172.19.0.3', 9042)]. Last error: Connection refused\"), '172.19.0.4:9042': ConnectionRefusedError(111, \"Tried connecting to [('172.19.0.4', 9042)]. Last error: Connection refused\")})\n"
     ]
    }
   ],
   "source": [
    "from cassandra.cluster import Cluster\n",
    "try:\n",
    "    cluster = Cluster(['project-5-srh4dawin-db-1', 'project-5-srh4dawin-db-2', 'project-5-srh4dawin-db-3'])\n",
    "    session = cluster.connect()\n",
    "except Exception as e:\n",
    "    print(e)"
   ]
  },
  {
   "cell_type": "code",
   "execution_count": null,
   "id": "1e9f016c-82d0-4579-8326-9e1ba6bbe160",
   "metadata": {},
   "outputs": [],
   "source": []
  },
  {
   "cell_type": "code",
   "execution_count": null,
   "id": "a931552e-c7fa-4cd3-869c-9b056c693b61",
   "metadata": {},
   "outputs": [],
   "source": []
  }
 ],
 "metadata": {
  "kernelspec": {
   "display_name": "Python 3 (ipykernel)",
   "language": "python",
   "name": "python3"
  },
  "language_info": {
   "codemirror_mode": {
    "name": "ipython",
    "version": 3
   },
   "file_extension": ".py",
   "mimetype": "text/x-python",
   "name": "python",
   "nbconvert_exporter": "python",
   "pygments_lexer": "ipython3",
   "version": "3.10.6"
  }
 },
 "nbformat": 4,
 "nbformat_minor": 5
}
